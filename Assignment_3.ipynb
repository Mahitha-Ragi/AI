{
  "nbformat": 4,
  "nbformat_minor": 0,
  "metadata": {
    "colab": {
      "name": "Assignment 3.ipynb",
      "provenance": [],
      "authorship_tag": "ABX9TyMxY0UF3AzsMhtwCu8yuN15",
      "include_colab_link": true
    },
    "kernelspec": {
      "name": "python3",
      "display_name": "Python 3"
    },
    "language_info": {
      "name": "python"
    }
  },
  "cells": [
    {
      "cell_type": "markdown",
      "metadata": {
        "id": "view-in-github",
        "colab_type": "text"
      },
      "source": [
        "<a href=\"https://colab.research.google.com/github/Mahitha-Ragi/AI/blob/main/Assignment_3.ipynb\" target=\"_parent\"><img src=\"https://colab.research.google.com/assets/colab-badge.svg\" alt=\"Open In Colab\"/></a>"
      ]
    },
    {
      "cell_type": "code",
      "metadata": {
        "colab": {
          "base_uri": "https://localhost:8080/"
        },
        "id": "dWG85kkdZXDV",
        "outputId": "6dc67a47-dd83-4bdb-eeae-b9c224da87e2"
      },
      "source": [
        "import numpy as np\n",
        "import math as m\n",
        "\n",
        "x = np.random.uniform(-12,12)\n",
        "y = np.random.uniform(-12,12)\n",
        "\n",
        "eta = 0.001\n",
        "iterations = 10000\n",
        "\n",
        "for i in range(iterations):\n",
        "    gradx = 6*x\n",
        "    grady = -5*m.exp(-y)\n",
        "    stepx = -eta*gradx\n",
        "    stepy = -eta*grady\n",
        "    x += stepx\n",
        "    y += stepy\n",
        "\n",
        "x = round(x)\n",
        "y = round(y)\n",
        "\n",
        "print(f'The value of x,y : ', x, y)\n",
        "print(f'Minimum Value of f(x,y) : ', (3*x**2)+(5*m.exp(-y))+10 )"
      ],
      "execution_count": 2,
      "outputs": [
        {
          "output_type": "stream",
          "name": "stdout",
          "text": [
            "The value of x,y :  0 337\n",
            "Minimum Value of f(x,y) :  10.0\n"
          ]
        }
      ]
    }
  ]
}